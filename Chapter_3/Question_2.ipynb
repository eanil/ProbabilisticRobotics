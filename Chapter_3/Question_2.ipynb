{
 "cells": [
  {
   "cell_type": "markdown",
   "metadata": {},
   "source": [
    "# Adding the measurements to the simple Kalman filter"
   ]
  },
  {
   "cell_type": "markdown",
   "metadata": {},
   "source": [
    "The measurement model is defined as\n",
    "\n",
    "$z_t = C x_t + \\delta_t$\n",
    "\n",
    "C = [1 0]\n",
    "\n",
    "and $\\delta_t \\sim \\mathcal{N}(\\begin{bmatrix}0\\\\0\\end{bmatrix},\\,\\sigma^{2}CC^T)$\\,\n",
    "\n",
    "Therefore,\n",
    "\n",
    "$Q_t = \\sigma^{2}CC^T = 10$"
   ]
  },
  {
   "cell_type": "markdown",
   "metadata": {},
   "source": [
    "In the previous question, we calculated,\n",
    "\n",
    "$\\overline{\\mu}_{t=5} = \\begin{bmatrix} 0 \\\\ 0 \\end{bmatrix}$\n",
    "\n",
    "$\\overline{\\Sigma}_{t=5} = \\begin{bmatrix} 41.25 & 12.5 \\\\ 12.5 & 5 \\end{bmatrix}$"
   ]
  },
  {
   "cell_type": "markdown",
   "metadata": {},
   "source": [
    "$K_{5} = \\overline{\\Sigma}_5 C^T \\big( C \\overline{\\Sigma}_5 C^T + Q\\big)^{-1}$\n",
    "\n",
    "$K_5 = \\begin{bmatrix} 0.8 \\\\ 0.24 \\end{bmatrix}$"
   ]
  },
  {
   "cell_type": "markdown",
   "metadata": {},
   "source": [
    "$\\mu_5 = \\overline{\\mu}_5 + K_5 \\big( z_5 - C_5 \\overline{\\mu}_5 \\big)$\n",
    "\n",
    "$\\mu_5 = \\begin{bmatrix} 4 \\\\ 1.2 \\end{bmatrix}$"
   ]
  },
  {
   "cell_type": "markdown",
   "metadata": {},
   "source": [
    "$\\Sigma_5 = \\big( \\it{I} - K_5 C \\big) \\overline{\\Sigma_5} $\n",
    "\n",
    "$\\Sigma_5 = \\begin{bmatrix} 8.05 & 2.44 \\\\ 2.44 & 1.95 \\end{bmatrix}$"
   ]
  },
  {
   "cell_type": "markdown",
   "metadata": {},
   "source": [
    "Or we can do this with code"
   ]
  },
  {
   "cell_type": "code",
   "execution_count": 8,
   "metadata": {},
   "outputs": [],
   "source": [
    "import numpy as np\n",
    "from numpy import linalg as LA\n",
    "import matplotlib.pyplot as plt\n",
    "from matplotlib.patches import Ellipse\n",
    "import math"
   ]
  },
  {
   "cell_type": "code",
   "execution_count": 9,
   "metadata": {},
   "outputs": [],
   "source": [
    "def Update(meanPredict, covPredict, C, Qt, zt):\n",
    "    Kp = C.dot(covPredict).dot(C.transpose()) + Qt\n",
    "    K = covPredict.dot(C.transpose())/Kp\n",
    "    K.shape = (2, 1) # this and the next two lines are to force col and row vectors\n",
    "    C.shape = (1, 2)\n",
    "    meanPredict.shape = (2,1)\n",
    "    mean = meanPredict + K * (zt - C.dot(meanPredict))\n",
    "    covp = (np.identity(2) - K.dot(C))\n",
    "    cov = covp.dot(covPredict)\n",
    "    return mean, cov"
   ]
  },
  {
   "cell_type": "code",
   "execution_count": 10,
   "metadata": {},
   "outputs": [
    {
     "name": "stdout",
     "output_type": "stream",
     "text": [
      "mean = \n",
      " [[4.02439024]\n",
      " [1.2195122 ]]\n",
      "Covariance = \n",
      " [[8.04878049 2.43902439]\n",
      " [2.43902439 1.95121951]]\n"
     ]
    }
   ],
   "source": [
    "[mean, cov] = Update(np.array([0, 0]), \n",
    "                     np.array([[41.25, 12.5], [12.5, 5]]), \n",
    "                     np.array([1, 0]), 10, 5)\n",
    "print(\"mean = \\n\", mean)\n",
    "print(\"Covariance = \\n\", cov)"
   ]
  },
  {
   "cell_type": "code",
   "execution_count": 14,
   "metadata": {},
   "outputs": [
    {
     "data": {
      "image/png": "[encoded data removed]",
      "text/plain": [
       "<Figure size 432x288 with 1 Axes>"
      ]
     },
     "metadata": {},
     "output_type": "display_data"
    }
   ],
   "source": [
    "cov_predict = np.array([[41.25,12.5], [12.5,5.]])\n",
    "[eigValues_predict, eigVectors_predict] = LA.eig(cov_predict)\n",
    "\n",
    "\n",
    "ellipseWidth = 2 * math.sqrt(eigValues_predict[0] * 5.991)\n",
    "ellipseHeight = 2 * math.sqrt(eigValues_predict[1] * 5.991)\n",
    "angle = math.atan(eigVectors_predict[1,0]/eigVectors_predict[0,0])\n",
    "angleDegree = angle*180/math.pi\n",
    "\n",
    "fig = plt.figure()\n",
    "ax = fig.add_subplot(1,1,1, aspect='equal')\n",
    "e1=Ellipse((0,0), ellipseWidth, ellipseHeight, angleDegree, label=\"prediction\")\n",
    "ax.add_patch(e1)\n",
    "ax.set_xlim([-20,20])\n",
    "ax.set_ylim([-20,20])\n",
    "plt.grid(True)\n",
    "\n",
    "[eigValues_update, eigVectors_update] = LA.eig(cov)\n",
    "\n",
    "ellipseWidth = 2 * math.sqrt(eigValues_update[0] * 5.991)\n",
    "ellipseHeight = 2 * math.sqrt(eigValues_update[1] * 5.991)\n",
    "angle = math.atan(eigVectors_update[1,0]/eigVectors_update[0,0])\n",
    "angleDegree = angle*180/math.pi\n",
    "\n",
    "e2=Ellipse(mean, ellipseWidth, ellipseHeight, \n",
    "           angleDegree, facecolor='red', label=\"update\")\n",
    "ax.add_patch(e2)\n",
    "plt.legend()\n",
    "\n",
    "plt.show()"
   ]
  },
  {
   "cell_type": "code",
   "execution_count": null,
   "metadata": {},
   "outputs": [],
   "source": []
  }
 ],
 "metadata": {
  "kernelspec": {
   "display_name": "Python 3",
   "language": "python",
   "name": "python3"
  },
  "language_info": {
   "codemirror_mode": {
    "name": "ipython",
    "version": 3
   },
   "file_extension": ".py",
   "mimetype": "text/x-python",
   "name": "python",
   "nbconvert_exporter": "python",
   "pygments_lexer": "ipython3",
   "version": "3.6.5"
  }
 },
 "nbformat": 4,
 "nbformat_minor": 2
}
