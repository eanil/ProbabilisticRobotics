{
 "cells": [
  {
   "cell_type": "markdown",
   "metadata": {},
   "source": [
    "# Adding the measurements to the simple Kalman filter"
   ]
  },
  {
   "cell_type": "markdown",
   "metadata": {},
   "source": [
    "The measurement model is defined as\n",
    "\n",
    "$z_t = C x_t + \\delta_t$\n",
    "\n",
    "C = [1 0]\n",
    "\n",
    "and $\\delta_t \\sim \\mathcal{N}(\\begin{bmatrix}0\\\\0\\end{bmatrix},\\,\\sigma^{2}CC^T)$\\,\n",
    "\n",
    "Therefore,\n",
    "\n",
    "$Q_t = \\sigma^{2}CC^T = 10$"
   ]
  },
  {
   "cell_type": "markdown",
   "metadata": {},
   "source": [
    "In the previous question, we calculated,\n",
    "\n",
    "$\\overline{\\mu}_{t=5} = \\begin{bmatrix} 0 \\\\ 0 \\end{bmatrix}$\n",
    "\n",
    "$\\overline{\\Sigma}_{t=5} = \\begin{bmatrix} 41.25 & 12.5 \\\\ 12.5 & 5 \\end{bmatrix}$"
   ]
  },
  {
   "cell_type": "markdown",
   "metadata": {},
   "source": [
    "$K_{5} = \\overline{\\Sigma}_5 C^T \\big( C \\overline{\\Sigma}_5 C^T + Q\\big)^{-1}$\n",
    "\n",
    "$K_5 = \\begin{bmatrix} 0.8 \\\\ 0.24 \\end{bmatrix}$"
   ]
  },
  {
   "cell_type": "markdown",
   "metadata": {},
   "source": [
    "$\\mu_5 = \\overline{\\mu}_5 + K_5 \\big( z_5 - C_5 \\overline{\\mu}_5 \\big)$\n",
    "\n",
    "$\\mu_5 = \\begin{bmatrix} 4 \\\\ 1.2 \\end{bmatrix}$"
   ]
  },
  {
   "cell_type": "markdown",
   "metadata": {},
   "source": [
    "$\\Sigma_5 = \\big( \\it{I} - K_5 C \\big) \\overline{\\Sigma_5} $\n",
    "\n",
    "$\\Sigma_5 = \\begin{bmatrix} 8.05 & 2.44 \\\\ 2.44 & 1.95 \\end{bmatrix}$"
   ]
  },
  {
   "cell_type": "code",
   "execution_count": 60,
   "metadata": {},
   "outputs": [],
   "source": [
    "import numpy as np\n",
    "from numpy import linalg as LA\n",
    "import matplotlib.pyplot as plt\n",
    "from matplotlib.patches import Ellipse\n",
    "import math\n"
   ]
  },
  {
   "cell_type": "code",
   "execution_count": 72,
   "metadata": {},
   "outputs": [
    {
     "data": {
      "image/png": "[encoded data removed]",
      "text/plain": [
       "<Figure size 432x288 with 1 Axes>"
      ]
     },
     "metadata": {
      "needs_background": "light"
     },
     "output_type": "display_data"
    }
   ],
   "source": [
    "cov_predict = np.array([[41.25,12.5], [12.5,5.]])\n",
    "[eigValues_predict, eigVectors_predict] = LA.eig(cov_predict)\n",
    "\n",
    "\n",
    "ellipseWidth = 2 * math.sqrt(eigValues_predict[0] * 5.991)\n",
    "ellipseHeight = 2 * math.sqrt(eigValues_predict[1] * 5.991)\n",
    "angle = math.atan(eigVectors_predict[1,0]/eigVectors_predict[0,0])\n",
    "angleDegree = angle*180/math.pi\n",
    "\n",
    "fig = plt.figure()\n",
    "ax = fig.add_subplot(1,1,1, aspect='equal')\n",
    "e1=Ellipse((0,0), ellipseWidth, ellipseHeight, angleDegree, label=\"prediction\")\n",
    "ax.add_patch(e1)\n",
    "ax.set_xlim([-20,20])\n",
    "ax.set_ylim([-20,20])\n",
    "plt.grid(True)\n",
    "\n",
    "\n",
    "cov_update = np.array([[8.05, 2.44],[2.44, 1.95]])\n",
    "[eigValues_update, eigVectors_update] = LA.eig(cov_update)\n",
    "\n",
    "ellipseWidth = 2 * math.sqrt(eigValues_update[0] * 5.991)\n",
    "ellipseHeight = 2 * math.sqrt(eigValues_update[1] * 5.991)\n",
    "angle = math.atan(eigVectors_update[1,0]/eigVectors_update[0,0])\n",
    "angleDegree = angle*180/math.pi\n",
    "\n",
    "e2=Ellipse((0,0), ellipseWidth, ellipseHeight, angleDegree, facecolor='red', label=\"update\")\n",
    "e2.set_center((4, 1.2))\n",
    "ax.add_patch(e2)\n",
    "plt.legend()\n",
    "\n",
    "plt.show()"
   ]
  }
 ],
 "metadata": {
  "kernelspec": {
   "display_name": "Python 3",
   "language": "python",
   "name": "python3"
  },
  "language_info": {
   "codemirror_mode": {
    "name": "ipython",
    "version": 3
   },
   "file_extension": ".py",
   "mimetype": "text/x-python",
   "name": "python",
   "nbconvert_exporter": "python",
   "pygments_lexer": "ipython3",
   "version": "3.7.1"
  }
 },
 "nbformat": 4,
 "nbformat_minor": 2
}
