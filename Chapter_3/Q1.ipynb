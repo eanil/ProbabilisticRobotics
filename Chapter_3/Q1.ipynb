{
 "cells": [
  {
   "cell_type": "markdown",
   "metadata": {},
   "source": [
    "# Kalman filter for a simple linear system"
   ]
  },
  {
   "cell_type": "markdown",
   "metadata": {},
   "source": [
    "### a) Minimal state vector\n",
    "The equations governing the dynamics of the system are:\n",
    "\n",
    "$x_t = x_{t-1} + \\dot{x_{t-1}} \\Delta t + \\ddot{x_{t}} \\Delta t^2 / 2$\n",
    "\n",
    "$\\dot{x}_t = \\dot{x_{t-1}} + \\ddot{x_{t}} \\Delta t $\n",
    "\n",
    "where $\\Delta t = 1$\n",
    "\n",
    "The state matrix is:\n",
    "\n",
    "\n",
    "$X_t=\\begin{bmatrix}x_t \\\\ \\dot{x_t} \\end{bmatrix}$\n",
    "\n",
    "This is sufficient to model the system. Each successive step will depend on $X_{t-1}$ and the control. In the model, the control will be the randomly set $\\ddot{x_t}$, as given in the question.\n",
    "\n",
    "$u_t = \\ddot{x_t}$\n",
    "\n"
   ]
  },
  {
   "cell_type": "markdown",
   "metadata": {},
   "source": [
    "### b) Posterior of the prediction step"
   ]
  },
  {
   "cell_type": "markdown",
   "metadata": {},
   "source": [
    "$p(x_t | u_t, x_{t-1}) = det(2\\pi R_t)^{-1/2}exp\\{-\\frac{1}{2}(x_t - A_{t-1}[x_{t-1},\\dot{x_{t-1}}]^T - B u_t)^T  R_{t-1}^{-1} (x_t - A_{t-1}X_{t-1} - B u_t)\\}$"
   ]
  },
  {
   "cell_type": "markdown",
   "metadata": {},
   "source": [
    "The mean and th covariance of the posterior will be given by:\n",
    "\n",
    "$\\overline{\\mu_t} = A_t X_{t-1} + B_t u_t$\n",
    "\n",
    "$\\overline{\\Sigma_t} = A_t \\Sigma_{t-1}A_t^T+R_t$\n",
    "\n",
    "To satisfy the governing equations, the other matrices are:\n",
    "\n",
    "\n",
    "$A_t = \\begin{bmatrix}1 & 1 \\\\ 0 & 1 \\end{bmatrix}$\n",
    "\n",
    "$B_t = \\begin{bmatrix}0.5 \\\\ 1 \\end{bmatrix}$\n",
    "\n",
    "$\\epsilon_t$ is a multivariate Gaussian $\\mathcal{N}(\\begin{bmatrix}0\\\\0\\end{bmatrix},\\,\\sigma^{2}GG^T)\\,$, where\n",
    "\n",
    "$R_t = \\sigma^2 B B^T = 1 \\begin{bmatrix}0.5 \\\\ 1 \\end{bmatrix} \\begin{bmatrix}0.5 \\\\ 1 \\end{bmatrix}^T =\\begin{bmatrix}0.25 & 0.5 \\\\ 0.5 & 1 \\end{bmatrix}$\n"
   ]
  },
  {
   "cell_type": "markdown",
   "metadata": {},
   "source": [
    "### c) Implementaiton of the posterior estimation"
   ]
  },
  {
   "cell_type": "code",
   "execution_count": 95,
   "metadata": {},
   "outputs": [],
   "source": [
    "import random\n",
    "import numpy as np\n",
    "from numpy import linalg as LA\n",
    "import matplotlib.pyplot as plt\n",
    "from matplotlib.patches import Ellipse\n",
    "import math\n",
    "\n",
    "def Posterior(x_prior, sigma_prior, u_t):\n",
    "    A = np.array([[1,1],[0,1]])\n",
    "    B = np.array([0.5, 1])\n",
    "    R = np.array([[0.25, 0.5],[0.5, 1]])\n",
    "    mu_posterior = np.matmul(A, x_prior) + B * u_t\n",
    "    sigma_posterior = np.matmul(np.matmul(A, sigma_prior), np.transpose(A)) + R\n",
    "    return mu_posterior, sigma_posterior"
   ]
  },
  {
   "cell_type": "markdown",
   "metadata": {},
   "source": [
    "We are given at $t=0, x_0=\\dot{x_0}=\\ddot{x_0}=0$"
   ]
  },
  {
   "cell_type": "code",
   "execution_count": 131,
   "metadata": {},
   "outputs": [
    {
     "name": "stdout",
     "output_type": "stream",
     "text": [
      "t= 1\n",
      "sigma= [[0.25 0.5 ]\n",
      " [0.5  1.  ]]\n",
      "eigenvalues:  [0.   1.25]\n",
      "eigenvectors:  [[-0.89442719 -0.4472136 ]\n",
      " [ 0.4472136  -0.89442719]]\n"
     ]
    },
    {
     "data": {
      "image/png": "[encoded data removed]",
      "text/plain": [
       "<Figure size 432x288 with 1 Axes>"
      ]
     },
     "metadata": {
      "needs_background": "light"
     },
     "output_type": "display_data"
    },
    {
     "name": "stdout",
     "output_type": "stream",
     "text": [
      "t= 2\n",
      "sigma= [[2.5 2. ]\n",
      " [2.  2. ]]\n",
      "eigenvalues:  [4.26556444 0.23443556]\n",
      "eigenvectors:  [[ 0.74967818 -0.66180256]\n",
      " [ 0.66180256  0.74967818]]\n"
     ]
    },
    {
     "data": {
      "image/png": "[encoded data removed]",
      "text/plain": [
       "<Figure size 432x288 with 1 Axes>"
      ]
     },
     "metadata": {
      "needs_background": "light"
     },
     "output_type": "display_data"
    },
    {
     "name": "stdout",
     "output_type": "stream",
     "text": [
      "t= 3\n",
      "sigma= [[8.75 4.5 ]\n",
      " [4.5  3.  ]]\n",
      "eigenvalues:  [11.21500234  0.53499766]\n",
      "eigenvectors:  [[ 0.87703742 -0.48042207]\n",
      " [ 0.48042207  0.87703742]]\n"
     ]
    },
    {
     "data": {
      "image/png": "[encoded data removed]",
      "text/plain": [
       "<Figure size 432x288 with 1 Axes>"
      ]
     },
     "metadata": {
      "needs_background": "light"
     },
     "output_type": "display_data"
    },
    {
     "name": "stdout",
     "output_type": "stream",
     "text": [
      "t= 4\n",
      "sigma= [[21.  8.]\n",
      " [ 8.  4.]]\n",
      "eigenvalues:  [24.17261753  0.82738247]\n",
      "eigenvectors:  [[ 0.92956979 -0.36864618]\n",
      " [ 0.36864618  0.92956979]]\n"
     ]
    },
    {
     "data": {
      "image/png": "[encoded data removed]",
      "text/plain": [
       "<Figure size 432x288 with 1 Axes>"
      ]
     },
     "metadata": {
      "needs_background": "light"
     },
     "output_type": "display_data"
    }
   ],
   "source": [
    "x_0 = np.array([0,0])\n",
    "E_0 = np.array([[0,0],[0,0]])\n",
    "\n",
    "numberOfSteps = 5\n",
    "\n",
    "x_variances = []\n",
    "x_dot_variances = []\n",
    "\n",
    "# now loop over the time steps\n",
    "for i in range(1,numberOfSteps):\n",
    "    u_t = random.gauss(0, 1)\n",
    "    [mu, sigma] = Posterior(x_0, E_0, u_t)\n",
    "    x_0 = mu\n",
    "    E_0 = sigma\n",
    "    #print(\"mu=\", mu)\n",
    "    print(\"t=\",i)\n",
    "    print(\"sigma=\", sigma)\n",
    "    [eigenValues, eigenVectors] = LA.eig(sigma)\n",
    "    x_variances.append(eigenValues[0])    \n",
    "    x_dot_variances.append(eigenValues[1])\n",
    "\n",
    "    print(\"eigenvalues: \", eigenValues)\n",
    "    print(\"eigenvectors: \", eigenVectors)\n",
    "    \n",
    "    # See the end of the page for the explanation of ellipses.\n",
    "    ellipseWidth = 2 * math.sqrt(eigenValues[0] * 5.991) # 5.991 is the scaling to use for a 1 sigma ellipse\n",
    "    ellipseHeight = 2 * math.sqrt(eigenValues[1] * 5.991) # 5.991 is the scaling to use for a 1 sigma ellipse\n",
    "    angle = math.atan(eigenVectors[1,0]/eigenVectors[0,0])\n",
    "    angleDegree = angle*180/math.pi\n",
    "    \n",
    "    fig = plt.figure()\n",
    "    ax = fig.add_subplot(1,1,1, aspect='equal')\n",
    "    e1=Ellipse((0,0), ellipseWidth, ellipseHeight, angleDegree)\n",
    "    ax.add_patch(e1)\n",
    "    ax.set_xlim([-20,20])\n",
    "    ax.set_ylim([-20,20])\n",
    "    plt.grid(True)\n",
    "    plt.show()\n",
    "    #actual scales\n",
    "    #ax.set_xlim([-1*ellipseWidth*math.cos(angle),ellipseWidth*math.cos(angle)])\n",
    "    #ax.set_ylim([-1*ellipseWidth*math.cos(angle),ellipseWidth*math.cos(angle)])"
   ]
  },
  {
   "cell_type": "code",
   "execution_count": 132,
   "metadata": {},
   "outputs": [
    {
     "data": {
      "text/plain": [
       "<matplotlib.legend.Legend at 0x7eff41f44f98>"
      ]
     },
     "execution_count": 132,
     "metadata": {},
     "output_type": "execute_result"
    },
    {
     "data": {
      "image/png": "[encoded data removed]",
      "text/plain": [
       "<Figure size 432x288 with 1 Axes>"
      ]
     },
     "metadata": {
      "needs_background": "light"
     },
     "output_type": "display_data"
    }
   ],
   "source": [
    "plt.plot(range(1, numberOfSteps), x_variances, 'r-', label=\"Variance of $x_t$\")\n",
    "plt.plot(range(1, numberOfSteps), x_dot_variances, 'b-', label=\"Variance of $\\dot{x_t}$\")\n",
    "plt.xlabel(\"t\")\n",
    "plt.ylabel(\"$\\sigma^2$\")\n",
    "plt.legend()"
   ]
  },
  {
   "cell_type": "markdown",
   "metadata": {},
   "source": [
    "### Covariance between $x_t$ and $\\dot{x_t}$\n",
    "\n",
    "The covariance between the state variables will go to infinity as $t \\rightarrow \\infty$"
   ]
  },
  {
   "cell_type": "markdown",
   "metadata": {},
   "source": [
    "## Uncertainty ellipses\n",
    "\n",
    "Equation of an ellipse is given by:\n",
    "\n",
    "$\\big( \\frac{x}{a} \\big)^2 + \\big( \\frac{y}{b} \\big)^2 = 1$, where a and b are the width and height of the ellipse.\n",
    "\n",
    "We can replace a and b with $\\sigma_x$ and $\\sigma_y$.\n",
    "\n",
    "$\\big( \\frac{x}{2\\sigma_x} \\big)^2 + \\big( \\frac{y}{2\\sigma_y} \\big)^2 = s$, where s is a scaling factor.\n",
    "\n",
    "If we divide both sides by s and rearrange:\n",
    "\n",
    "$\\big( \\frac{x}{2\\sigma_x\\sqrt{s^2}} \\big)^2 + \\big( \\frac{y}{2\\sigma_y\\sqrt{s^2}} \\big)^2 = s$\n",
    "\n",
    "If we want our ellipse to represent a specific confidence interval, we can choose s accordingly.\n",
    "\n",
    "For $\\sigma = 1$, $s$ becomes 5.991 (https://en.wikipedia.org/wiki/Chi-squared_distribution) \n",
    "\n",
    "Since, we calculated the variances through eigen analysis above, we need to take the sqrt of them.\n"
   ]
  }
 ],
 "metadata": {
  "kernelspec": {
   "display_name": "Python 3",
   "language": "python",
   "name": "python3"
  },
  "language_info": {
   "codemirror_mode": {
    "name": "ipython",
    "version": 3
   },
   "file_extension": ".py",
   "mimetype": "text/x-python",
   "name": "python",
   "nbconvert_exporter": "python",
   "pygments_lexer": "ipython3",
   "version": "3.7.1"
  }
 },
 "nbformat": 4,
 "nbformat_minor": 2
}
