{
 "cells": [
  {
   "cell_type": "markdown",
   "metadata": {},
   "source": [
    "# Kalman filter for a simple linear system"
   ]
  },
  {
   "cell_type": "markdown",
   "metadata": {},
   "source": [
    "### a) minimal state vector\n",
    "$X_t=[x_t,\\dot{x_t}]^T$\n",
    "\n",
    "This is sufficient to model the system. Each successive step will depend on $X_{t-1}$ and the control. In the model, the control will be randomly set $\\ddot{x_t}$.\n",
    "\n",
    "$u_t = \\ddot{x_t}$"
   ]
  },
  {
   "cell_type": "markdown",
   "metadata": {},
   "source": [
    "$\\overline{\\mu_t} = A_t X_t + B_t u_t$\n",
    "\n",
    "$\\Sigma_t = R_t$"
   ]
  },
  {
   "cell_type": "markdown",
   "metadata": {},
   "source": [
    "### b) Posterior of the prediction step"
   ]
  },
  {
   "cell_type": "markdown",
   "metadata": {},
   "source": [
    "$p(x_t | u_t, x_{t-1}) = det(2\\pi R_t)^{1/2}exp\\{-\\frac{1}{2}(x_t - A_{t-1}[x_{t-1},\\dot{x_{t-1}}]^T - B u_t)^T  R_{t-1}^{-1} (x_t - A_{t-1}X_{t-1} - B u_t)\\}$"
   ]
  },
  {
   "cell_type": "code",
   "execution_count": null,
   "metadata": {},
   "outputs": [],
   "source": []
  }
 ],
 "metadata": {
  "kernelspec": {
   "display_name": "Python 3",
   "language": "python",
   "name": "python3"
  },
  "language_info": {
   "codemirror_mode": {
    "name": "ipython",
    "version": 3
   },
   "file_extension": ".py",
   "mimetype": "text/x-python",
   "name": "python",
   "nbconvert_exporter": "python",
   "pygments_lexer": "ipython3",
   "version": "3.7.1"
  }
 },
 "nbformat": 4,
 "nbformat_minor": 2
}
