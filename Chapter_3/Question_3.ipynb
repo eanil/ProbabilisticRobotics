{
 "cells": [
  {
   "cell_type": "markdown",
   "metadata": {},
   "source": [
    "# Extended Kalman Filter"
   ]
  },
  {
   "cell_type": "markdown",
   "metadata": {},
   "source": [
    "a) Guessing the posterior after it moves.\n",
    "\n",
    "Non-linear motion model:\n",
    "\n",
    "$\\begin{bmatrix}x' \\\\ y' \\\\ \\theta \\end{bmatrix} = \\begin{bmatrix} x+cos\\theta \\\\ y+sin\\theta \\\\ \\theta \\end{bmatrix}$\n",
    "\n",
    "Our initial estimate is given as:\n",
    "\n",
    "$\\Sigma_0 = \\begin{bmatrix} 0.01 & 0 & 0 \\\\ 0 & 0.01 & 0 \\\\ 0 & 0 & 10000\\end{bmatrix}$\n",
    "\n",
    "$\\mu_0 = [0,0,0]$\n",
    "\n",
    "\n",
    "The posterior will likely be a hollow circle. We know that the robot moved 1 unit. So let's say it moved in the x direction. Our covariance tells us that we know the x and y state variables with good certainty. However the rotation has very high variance. Therefore, the circle.\n",
    "\n",
    "TODO: Demonstrate"
   ]
  },
  {
   "cell_type": "markdown",
   "metadata": {},
   "source": [
    "### Deriving the prediction step"
   ]
  },
  {
   "cell_type": "markdown",
   "metadata": {},
   "source": [
    "The state transition function can be writte as\n",
    "\n",
    "$x_t = g(u_t, x_{t-1}) + \\epsilon_t$\n",
    "\n",
    "The linearization equation is\n",
    "\n",
    "$g(u_t, x_{t-1}) = g(u_t, \\mu_{t-1}) + g'(u_t, \\mu_{t-1})(x_{t-1}-\\mu_{t-1})$\n",
    "\n",
    "The Jacobian will be\n",
    "\n",
    "$\\frac{\\partial g(u_t, x_{t-1})}{\\partial x_{x-1}} = \n",
    "\\begin{bmatrix} 1 & 0 & -sin\\theta \\\\ 0 & 1 &cos\\theta \\\\ 0 & 0 & 1 \\end{bmatrix}$"
   ]
  },
  {
   "cell_type": "code",
   "execution_count": 77,
   "metadata": {},
   "outputs": [],
   "source": [
    "# Jacobian\n",
    "def Gt(mean_prev):\n",
    "    theta = mean_prev[0]\n",
    "    return np.array([[1, 0, -np.sin(theta)], [0, 1, np.cos(theta)], [0, 0, 1]])"
   ]
  },
  {
   "cell_type": "code",
   "execution_count": 78,
   "metadata": {},
   "outputs": [],
   "source": [
    "def Prediction(mean_prev, cov_prev, control):\n",
    "    x_prev = mean_prev[0]\n",
    "    y_prev = mean_prev[1]\n",
    "    theta_prev = mean_prev[2]\n",
    "    \n",
    "    mean_predict = np.array([x_prev, \n",
    "                             y_prev, \n",
    "                             theta_prev]) + control\n",
    "    \n",
    "    G_prev = Gt(mean_prev)\n",
    "    cov_predict = G_prev.dot(cov_prev).dot(G_prev.transpose())\n",
    "    \n",
    "    return mean_predict, cov_predict"
   ]
  },
  {
   "cell_type": "code",
   "execution_count": 79,
   "metadata": {},
   "outputs": [],
   "source": [
    "import numpy as np\n",
    "from numpy import linalg as LA\n",
    "import matplotlib.pyplot as plt\n",
    "from matplotlib.patches import Ellipse\n",
    "import math"
   ]
  },
  {
   "cell_type": "code",
   "execution_count": 80,
   "metadata": {},
   "outputs": [
    {
     "name": "stdout",
     "output_type": "stream",
     "text": [
      "[[1. 0. 0.]\n",
      " [0. 1. 0.]\n",
      " [0. 0. 1.]]\n",
      "[1.e-02 1.e-02 1.e+04]\n"
     ]
    },
    {
     "data": {
      "image/png": "[encoded data removed]",
      "text/plain": [
       "<Figure size 432x288 with 1 Axes>"
      ]
     },
     "metadata": {
      "needs_background": "light"
     },
     "output_type": "display_data"
    }
   ],
   "source": [
    "def drawEllipse(center, covariance):\n",
    "    [eigValues_predict, eigVectors_predict] = LA.eig(covariance)\n",
    "    print(eigVectors_predict)\n",
    "    print(eigValues_predict)\n",
    "    \n",
    "    ellipseWidth = 2 * math.sqrt(eigValues_predict[0] * 5.991)\n",
    "    ellipseHeight = 2 * math.sqrt(eigValues_predict[1] * 5.991)\n",
    "    angle = math.atan(eigVectors_predict[1,0]/eigVectors_predict[0,0])\n",
    "    angleDegree = angle*180/math.pi\n",
    "\n",
    "    fig = plt.figure()\n",
    "    ax = fig.add_subplot(1,1,1, aspect='equal')\n",
    "    e1=Ellipse(center, ellipseWidth, ellipseHeight, angleDegree, label=\"prediction\")\n",
    "    ax.add_patch(e1)\n",
    "    ax.set_xlim([-2,2])\n",
    "    ax.set_ylim([-2,2])\n",
    "    plt.grid(True)\n",
    "\n",
    "    plt.show()\n",
    "    \n",
    "    \n",
    "cov_estimate = np.array([[0.01, 0, 0], [0, 0.01, 0], [0, 0, 10000]])\n",
    "drawEllipse((0,0), cov_estimate)"
   ]
  },
  {
   "cell_type": "code",
   "execution_count": 81,
   "metadata": {},
   "outputs": [
    {
     "name": "stdout",
     "output_type": "stream",
     "text": [
      "Mean:\n",
      " [1 0]\n",
      "Covariance:\n",
      " [[1.000000e-02 0.000000e+00]\n",
      " [0.000000e+00 1.000001e+04]]\n",
      "[[1. 0.]\n",
      " [0. 1.]]\n",
      "[1.000000e-02 1.000001e+04]\n"
     ]
    },
    {
     "data": {
      "image/png": "[encoded data removed]",
      "text/plain": [
       "<Figure size 432x288 with 1 Axes>"
      ]
     },
     "metadata": {
      "needs_background": "light"
     },
     "output_type": "display_data"
    }
   ],
   "source": [
    "cov_prev = np.array([[0.01, 0, 0], [0, 0.01, 0], [0, 0, 10000]])\n",
    "mean_prev = np.array([0, 0, 0])\n",
    "\n",
    "# move in x\n",
    "control = np.array([1, 0, 0])\n",
    "\n",
    "[mean, cov] = Prediction(mean_prev, cov_prev, control)\n",
    "\n",
    "mean = mean[:2]\n",
    "cov =  cov[:2, :2]\n",
    "print(\"Mean:\\n\", mean)\n",
    "print(\"Covariance:\\n\", cov)\n",
    "drawEllipse(mean, cov)"
   ]
  },
  {
   "cell_type": "markdown",
   "metadata": {},
   "source": [
    "### Measurement Model"
   ]
  },
  {
   "cell_type": "code",
   "execution_count": 83,
   "metadata": {},
   "outputs": [],
   "source": [
    "# TODO"
   ]
  }
 ],
 "metadata": {
  "kernelspec": {
   "display_name": "Python 3",
   "language": "python",
   "name": "python3"
  },
  "language_info": {
   "codemirror_mode": {
    "name": "ipython",
    "version": 3
   },
   "file_extension": ".py",
   "mimetype": "text/x-python",
   "name": "python",
   "nbconvert_exporter": "python",
   "pygments_lexer": "ipython3",
   "version": "3.7.1"
  }
 },
 "nbformat": 4,
 "nbformat_minor": 2
}
