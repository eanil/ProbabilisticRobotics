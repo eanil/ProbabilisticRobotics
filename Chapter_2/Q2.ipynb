{
 "cells": [
  {
   "cell_type": "markdown",
   "metadata": {},
   "source": [
    "## Q2 Implementing Bayesian Filter and using it to predict the weather"
   ]
  },
  {
   "cell_type": "code",
   "execution_count": 1,
   "metadata": {},
   "outputs": [],
   "source": [
    "import numpy as np\n",
    "from numpy import linalg as LA\n",
    "from sklearn.preprocessing import normalize\n",
    "import random\n",
    "from math import log\n",
    "import scipy"
   ]
  },
  {
   "cell_type": "code",
   "execution_count": 36,
   "metadata": {},
   "outputs": [],
   "source": [
    "# Transition matrix\n",
    "sunny = np.array([0.8, 0.2, 0])\n",
    "cloudy = np.array([0.4, 0.4, 0.2])\n",
    "rainy = np.array([0.2, 0.6, 0.2])\n",
    "\n",
    "transitionMatrix = np.array([sunny,cloudy,rainy])"
   ]
  },
  {
   "cell_type": "markdown",
   "metadata": {},
   "source": [
    "### b) Implementation"
   ]
  },
  {
   "cell_type": "code",
   "execution_count": 37,
   "metadata": {},
   "outputs": [],
   "source": [
    "def BayesFilter(priorArray, generativeArray, transitionMatrix):\n",
    "    belief_predict = np.matmul(transitionMatrix, priorArray)\n",
    "    unnormalized_update = np.multiply(generativeArray, belief_predict)\n",
    "    belief_update = np.divide(unnormalized_update, np.sum(unnormalized_update))\n",
    "    return belief_update"
   ]
  },
  {
   "cell_type": "markdown",
   "metadata": {},
   "source": [
    "### Simulation "
   ]
  },
  {
   "cell_type": "code",
   "execution_count": 38,
   "metadata": {},
   "outputs": [],
   "source": [
    "def BayesSimulate(priors, measurementPrediction, state_transition, n):\n",
    "    for i in range(n):\n",
    "        priors = BayesFilter(priors, measurementPrediction, state_transition)\n",
    "    return priors"
   ]
  },
  {
   "cell_type": "markdown",
   "metadata": {},
   "source": [
    "### c) Simulate to find the stationary distribution"
   ]
  },
  {
   "cell_type": "code",
   "execution_count": 39,
   "metadata": {},
   "outputs": [
    {
     "name": "stdout",
     "output_type": "stream",
     "text": [
      "[0.64259993 0.28586496 0.07153511]\n"
     ]
    }
   ],
   "source": [
    "# Simulate for 100 days\n",
    "# Regardless of the prior it will converge to the same distribution\n",
    "# Here is more on stationary distributions: https://brilliant.org/wiki/stationary-distributions/\n",
    "stationaryDistribution = BayesSimulate(np.array([0.3, 0.4, 0.3]), np.array([1, 1, 1]), transitionMatrix.transpose(), 10)\n",
    "print(stationaryDistribution)"
   ]
  },
  {
   "cell_type": "markdown",
   "metadata": {},
   "source": [
    "### a) Now let's find the probabilities for a series of day assuming the first day was _sunny_"
   ]
  },
  {
   "cell_type": "code",
   "execution_count": 40,
   "metadata": {},
   "outputs": [
    {
     "data": {
      "text/plain": [
       "array([0.8, 0.2, 0. ])"
      ]
     },
     "execution_count": 40,
     "metadata": {},
     "output_type": "execute_result"
    }
   ],
   "source": [
    "# probability(x_2 = sunny) = 1.0\n",
    "# probability(x_2 = cloudy) = ?\n",
    "BayesFilter(np.array([1, 0, 0]), np.array([1, 1, 1]), transitionMatrix.transpose())"
   ]
  },
  {
   "cell_type": "code",
   "execution_count": 41,
   "metadata": {},
   "outputs": [
    {
     "data": {
      "text/plain": [
       "array([0.72, 0.24, 0.04])"
      ]
     },
     "execution_count": 41,
     "metadata": {},
     "output_type": "execute_result"
    }
   ],
   "source": [
    "# probability(x_3 = cloudy) = ?\n",
    "BayesFilter(np.array([0.8, 0.2, 0.]), np.array([1, 1, 1]), transitionMatrix.transpose())"
   ]
  },
  {
   "cell_type": "code",
   "execution_count": 42,
   "metadata": {},
   "outputs": [
    {
     "data": {
      "text/plain": [
       "array([0.68 , 0.264, 0.056])"
      ]
     },
     "execution_count": 42,
     "metadata": {},
     "output_type": "execute_result"
    }
   ],
   "source": [
    "# probability(x_4 = rainy) = ?\n",
    "BayesFilter(np.array([0.72, 0.24, 0.04]), np.array([1, 1, 1]), transitionMatrix.transpose())"
   ]
  },
  {
   "cell_type": "markdown",
   "metadata": {},
   "source": [
    "### e) Entropy of the stationary distribution"
   ]
  },
  {
   "cell_type": "code",
   "execution_count": 43,
   "metadata": {},
   "outputs": [],
   "source": [
    "def entropy(probabilities):\n",
    "    entrp = 0\n",
    "    for p in probabilities:\n",
    "        assert p >= 0.\n",
    "        entrp = entrp - p*log(p)\n",
    "    return entrp"
   ]
  },
  {
   "cell_type": "code",
   "execution_count": 44,
   "metadata": {},
   "outputs": [
    {
     "name": "stdout",
     "output_type": "stream",
     "text": [
      "0.830827826643127\n"
     ]
    }
   ],
   "source": [
    "print(entropy(stationaryDistribution))"
   ]
  },
  {
   "cell_type": "markdown",
   "metadata": {},
   "source": [
    "### f) Computing the probability table of yesterday from today\n",
    "\n",
    "You need to use the bayesian rule to do this."
   ]
  },
  {
   "cell_type": "markdown",
   "metadata": {},
   "source": [
    "$p(x|y) = \\frac{p(y|x)p(x)}{p(y)}$"
   ]
  },
  {
   "cell_type": "markdown",
   "metadata": {},
   "source": [
    "$\\textrm{Therefore} \\\\\n",
    "p(w_{yesterday}|w_{today})=\\frac{p(w_{today}|w_{yesterday})p(w_{yesterday})}{p(w_{today})}$"
   ]
  },
  {
   "cell_type": "markdown",
   "metadata": {},
   "source": [
    "We can consider the stationary distribution for the values of $p(w_{yesterday})$ and $p(w_{today})$."
   ]
  },
  {
   "cell_type": "markdown",
   "metadata": {},
   "source": [
    "e.g., $p(sunny_{yesterday} | sunny_{today}) = \\frac{0.8x0.64}{0.64}$"
   ]
  },
  {
   "cell_type": "markdown",
   "metadata": {},
   "source": [
    "#### To get the new rows of the state transition matrix, you can multiply each row with the corresponding stationary probability and element-wise divide the entire row with the stationary probability"
   ]
  },
  {
   "cell_type": "code",
   "execution_count": 76,
   "metadata": {},
   "outputs": [
    {
     "data": {
      "text/plain": [
       "array([0.8       , 0.44958286, 0.        ])"
      ]
     },
     "execution_count": 76,
     "metadata": {},
     "output_type": "execute_result"
    }
   ],
   "source": [
    "# P(X_yesterday | sunny_today)\n",
    "np.divide(sunny*stationaryDistribution[0], stationaryDistribution)"
   ]
  },
  {
   "cell_type": "code",
   "execution_count": 77,
   "metadata": {},
   "outputs": [
    {
     "data": {
      "text/plain": [
       "array([0.17794273, 0.4       , 0.79922976])"
      ]
     },
     "execution_count": 77,
     "metadata": {},
     "output_type": "execute_result"
    }
   ],
   "source": [
    "# P(X_yesterday | cloudy_today)\n",
    "np.divide(cloudy*stationaryDistribution[1], stationaryDistribution)"
   ]
  },
  {
   "cell_type": "code",
   "execution_count": 79,
   "metadata": {},
   "outputs": [
    {
     "data": {
      "text/plain": [
       "array([0.02226428, 0.15014456, 0.2       ])"
      ]
     },
     "execution_count": 79,
     "metadata": {},
     "output_type": "execute_result"
    }
   ],
   "source": [
    "# # P(X_yesterday | rainy_today)\n",
    "np.divide(rainy*stationaryDistribution[2], stationaryDistribution)"
   ]
  },
  {
   "cell_type": "markdown",
   "metadata": {},
   "source": [
    "### g) Seasons\n",
    "In a Markov Chain the state only depends on the previous state and nothing else."
   ]
  }
 ],
 "metadata": {
  "kernelspec": {
   "display_name": "Python 3",
   "language": "python",
   "name": "python3"
  },
  "language_info": {
   "codemirror_mode": {
    "name": "ipython",
    "version": 3
   },
   "file_extension": ".py",
   "mimetype": "text/x-python",
   "name": "python",
   "nbconvert_exporter": "python",
   "pygments_lexer": "ipython3",
   "version": "3.7.1"
  },
  "widgets": {
   "application/vnd.jupyter.widget-state+json": {
    "state": {},
    "version_major": 2,
    "version_minor": 0
   }
  }
 },
 "nbformat": 4,
 "nbformat_minor": 2
}
